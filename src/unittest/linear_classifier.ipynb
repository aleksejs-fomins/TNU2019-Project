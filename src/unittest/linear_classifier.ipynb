{
 "cells": [
  {
   "cell_type": "code",
   "execution_count": 1,
   "metadata": {},
   "outputs": [
    {
     "name": "stdout",
     "output_type": "stream",
     "text": [
      "Appended library directory /media/aleksejs/DataHDD/work/codes/theoretical-models/experimental-bridge/TNU2019-Project/src/lib\n"
     ]
    }
   ],
   "source": [
    "# Standard libraries\n",
    "import numpy as np\n",
    "import matplotlib.pyplot as plt\n",
    "\n",
    "# Append base directory to path\n",
    "import os,sys,inspect\n",
    "currentdir = os.path.dirname(os.path.abspath(inspect.getfile(inspect.currentframe())))\n",
    "path1p = os.path.dirname(currentdir)\n",
    "libpath = os.path.join(path1p, \"lib\")\n",
    "sys.path.insert(0, libpath) \n",
    "print(\"Appended library directory\", libpath)\n",
    "\n",
    "# Import libraries\n",
    "from classify_lib import linear_classifiability, linear_classifiability_eqpart"
   ]
  },
  {
   "cell_type": "markdown",
   "metadata": {},
   "source": [
    "## Test Basic Classifiability"
   ]
  },
  {
   "cell_type": "code",
   "execution_count": 4,
   "metadata": {
    "scrolled": true
   },
   "outputs": [
    {
     "name": "stdout",
     "output_type": "stream",
     "text": [
      "0\n",
      "100\n",
      "200\n",
      "300\n",
      "400\n",
      "500\n",
      "600\n",
      "700\n",
      "800\n",
      "900\n"
     ]
    }
   ],
   "source": [
    "data1 = np.random.normal(1, 1, 1000)\n",
    "data2 = np.random.normal(3, 1, 1000)\n",
    "\n",
    "data = np.expand_dims(np.hstack((data1, data2)), axis=1)\n",
    "labels = np.hstack((np.zeros(1000), np.ones(1000)))\n",
    "\n",
    "lclass = linear_classifiability(data, labels, Nperm=1000, print_freq=100)"
   ]
  },
  {
   "cell_type": "code",
   "execution_count": 5,
   "metadata": {},
   "outputs": [
    {
     "name": "stdout",
     "output_type": "stream",
     "text": [
      "Z-score of true labeling is 40.95032984391613\n"
     ]
    },
    {
     "data": {
      "image/png": "[encoded data removed]",
      "text/plain": [
       "<matplotlib.figure.Figure at 0x7ff909bbd128>"
      ]
     },
     "metadata": {},
     "output_type": "display_data"
    }
   ],
   "source": [
    "z = (lclass['acc_true']-np.nanmean(lclass['acc_shuffle'])) / np.nanstd(lclass['acc_shuffle'])\n",
    "print(\"Z-score of true labeling is\", z) \n",
    "\n",
    "fig, ax = plt.subplots(ncols=2, figsize=(10,5))\n",
    "ax[0].hist(data1, bins='auto', label='data1')\n",
    "ax[0].hist(data2, bins='auto', label='data2')\n",
    "ax[0].legend()\n",
    "ax[1].axvline(x=lclass['acc_true'], ymin=0, ymax=1, label='true', color='y')\n",
    "ax[1].hist(lclass['acc_shuffle'],bins='auto', label='shuffle')\n",
    "ax[1].legend()\n",
    "plt.show()"
   ]
  },
  {
   "cell_type": "markdown",
   "metadata": {
    "collapsed": true
   },
   "source": [
    "## Test Equi-sized classifiability"
   ]
  },
  {
   "cell_type": "code",
   "execution_count": 6,
   "metadata": {
    "scrolled": true
   },
   "outputs": [
    {
     "name": "stdout",
     "output_type": "stream",
     "text": [
      "0\n",
      "1000\n",
      "2000\n",
      "3000\n",
      "4000\n",
      "5000\n",
      "6000\n",
      "7000\n",
      "8000\n",
      "9000\n"
     ]
    }
   ],
   "source": [
    "NDATA1 = 1000\n",
    "NDATA2 = 20\n",
    "data1 = np.random.normal(1, 1, NDATA1)\n",
    "data2 = np.random.normal(3, 1, NDATA2)\n",
    "\n",
    "data = np.expand_dims(np.hstack((data1, data2)), axis=1)\n",
    "labels = np.hstack((np.zeros(NDATA1), np.ones(NDATA2)))\n",
    "\n",
    "lclassEQ = linear_classifiability_eqpart(data, labels, Nperm=10000, print_freq=1000)"
   ]
  },
  {
   "cell_type": "code",
   "execution_count": 9,
   "metadata": {},
   "outputs": [
    {
     "name": "stdout",
     "output_type": "stream",
     "text": [
      "2-sample Z-score is 3.194594369833665\n"
     ]
    },
    {
     "data": {
      "image/png": "[encoded data removed]",
      "text/plain": [
       "<matplotlib.figure.Figure at 0x7f6636259748>"
      ]
     },
     "metadata": {},
     "output_type": "display_data"
    }
   ],
   "source": [
    "zscore_2sample = lambda x, y: (np.nanmean(x) - np.nanmean(y))/np.sqrt(np.nanvar(x) + np.nanvar(y))\n",
    "print(\"2-sample Z-score is\", zscore_2sample(lclassEQ['acc_true'], lclassEQ['acc_shuffle']))\n",
    "\n",
    "fig, ax = plt.subplots(ncols=3, figsize=(10,5))\n",
    "ax[0].hist(data1, bins='auto', label='data1')\n",
    "ax[0].hist(data2, bins='auto', label='data2')\n",
    "ax[0].legend()\n",
    "ax[1].hist(lclassEQ['acc_true'],bins='auto', label='true')\n",
    "ax[1].hist(lclassEQ['acc_shuffle'],bins='auto', label='shuffle')\n",
    "ax[1].legend()\n",
    "plt.show()"
   ]
  },
  {
   "cell_type": "code",
   "execution_count": null,
   "metadata": {
    "collapsed": true
   },
   "outputs": [],
   "source": []
  }
 ],
 "metadata": {
  "kernelspec": {
   "display_name": "Python (py36qt5)",
   "language": "python",
   "name": "py36qt5"
  },
  "language_info": {
   "codemirror_mode": {
    "name": "ipython",
    "version": 3
   },
   "file_extension": ".py",
   "mimetype": "text/x-python",
   "name": "python",
   "nbconvert_exporter": "python",
   "pygments_lexer": "ipython3",
   "version": "3.6.4"
  }
 },
 "nbformat": 4,
 "nbformat_minor": 2
}
