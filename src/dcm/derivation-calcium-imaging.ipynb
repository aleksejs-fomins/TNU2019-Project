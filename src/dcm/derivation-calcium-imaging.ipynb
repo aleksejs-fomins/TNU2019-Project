{
 "cells": [
  {
   "cell_type": "markdown",
   "metadata": {},
   "source": [
    "# Derivation of DCM for Calcium Imaging (Based on Jung.et.al 2019)\n",
    "\n",
    "### Latent variable model\n",
    "\n",
    "The typical place to start is the neuronal state equation\n",
    "$$ \\vec{x}(t+1) = A\\vec{x}(t) + B \\vec{x}(t) \\vec{u}(t) + C\\vec{u}(t) + \\nu, \\;\\;\\;\\;\\; \\nu \\sim \\mathcal{N}(\\vec{\\mu}, \\Sigma)$$\n",
    "\n",
    "However, Jung2019 start with a convolution model of $Ca^{2+}$ potential $V$ instead\n",
    "\n",
    "$$V_i(t) = h_{i}(t) \\otimes (Inp_i(t) + \\Sigma_j \\gamma_{ij} \\sigma_j(V_i - T_i))$$\n",
    "\n",
    "where $i$ denotes the index of a neuronal population, $h_i(t) = H_i k_i t e^{-k_i t}$ is the response function of a population to incoming current, $Inp_i(t)$ is the external input to each neuron, $\\gamma_{ij}$ are the connection weights, $\\sigma_i(V_i - T_i) = \\frac{f_{max}}{1 - e^{R(V_i - T_i)}}$ is the nonlinear activation function and $T_i$ is the firing threshold.\n",
    "\n",
    "Doubly-differentiating the model results in a 2nd order ODE, which can be split into two first-order ODE's by introducing the $Ca^{2+}$ current $I$\n",
    "\n",
    "$$\n",
    "\\begin{eqnarray}\n",
    "\\dot{V}_i &=& I_i \\\\\n",
    "\\dot{I}_i &=& k_i H_i (Inp_i + \\Sigma_j \\gamma_{ij} \\sigma_j(V_i - T_i))) - 2k_i \\dot{V}_i - k_i^2 (V_i - T_i)\n",
    "\\end{eqnarray}\n",
    "$$\n",
    "\n",
    "Thus the values of $V(t)$ and $I(t)$ are deterministically determined by their own values a short time beforehand plus the external inputs $Inp(t)$\n",
    "\n",
    "### Forwards model\n",
    "\n",
    "It is well-known that $Ca^{2+}$ indicators such as GCaMP6f used in this study work as integrators of the $Ca^{2+}$ concentration with a timescale of $\\tau_{ca} \\sim 0.5s$. Jung2019 present the following model, relating the potential $V$, calcium concentration $[Ca^{2+}]$ and the observable fluorescence signal $F$\n",
    "\n",
    "$$\\frac{d}{dt}[Ca^{2+}] = K_{ca} g_{ca} \\sigma(V_i - T_i) - \\frac{[Ca^{2+}] - [Ca^{2+}]_{base}}{\\tau_{ca}}$$\n",
    "\n",
    "$$F = d_F + k_F \\frac{[Ca^{2+}]}{[Ca^{2+}] + k_d}$$\n",
    "\n",
    "### Observer noise model\n",
    "\n",
    "While not explicitly mentioned in Jung2019, the simplest inversion problem one can solve is observer noise. in particular, the measured fluorescence is given by $$F_m(t) \\sim \\mathcal{N}(F(t), \\Sigma)$$ given some constant normal noise covariance. In this case, the likelihood function, the likelihood function $P[F_m(t) | \\theta(t)]$, where $\\theta(t) = \\{V(t), I(t), [Ca^{2+}](t), \\gamma_{ij}, \\tau, ...\\}$ is given by\n",
    "\n",
    "$$P[F_m(t) | \\theta(t)] = Gau(F_m(t) - F(t, \\theta(t)), \\Sigma)$$\n",
    "\n",
    "And the total likelihood of the data \n",
    "\n",
    "$$L[F_m | \\theta] = \\prod_t Gau(F_m(t) - F(t, \\theta(t)), \\Sigma)$$\n",
    "\n",
    "Now, since the $\\theta(t)$ are not known, it would make sense to eliminate them from the model. Using the fact that the model is deterministic, we can replace $F$ with an equivalent function $\\tilde{F}$, which only requires initial values of parameters to compute the estimate of the observed signal\n",
    "$$ F(t, \\theta(t) = \\tilde{F}(t, \\theta(0))$$\n",
    "$\\tilde{F}$ is defined by the following algorithm\n",
    "* Initialize ODE at time $t=0$ using provided values of $\\theta_0$\n",
    "* Forwards-integrate ODE to get values of $\\theta(t_i)$ for desired time points $\\{t_i\\}$\n",
    "* Evaluate $\\tilde{F} = F(t_i, \\theta(t_i))$ using the forwards model\n",
    "\n",
    "### Priors\n",
    "\n",
    "\n",
    "### Model inversion\n"
   ]
  },
  {
   "cell_type": "code",
   "execution_count": null,
   "metadata": {
    "collapsed": true
   },
   "outputs": [],
   "source": []
  }
 ],
 "metadata": {
  "kernelspec": {
   "display_name": "Python 3",
   "language": "python",
   "name": "python3"
  },
  "language_info": {
   "codemirror_mode": {
    "name": "ipython",
    "version": 3
   },
   "file_extension": ".py",
   "mimetype": "text/x-python",
   "name": "python",
   "nbconvert_exporter": "python",
   "pygments_lexer": "ipython3",
   "version": "3.6.4"
  }
 },
 "nbformat": 4,
 "nbformat_minor": 2
}
